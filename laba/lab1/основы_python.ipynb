{
  "cells": [
    {
      "cell_type": "markdown",
      "metadata": {
        "id": "M-DGa20PaHnu"
      },
      "source": [
        "#Задача 1\n",
        "Написать функцию на вход которой подается строка, состоящая из латинских букв.\n",
        "Функция должна вернуть количество гласных букв (a, e, i, o, u) в этой строке. Написать тесты для кода"
      ]
    },
    {
      "cell_type": "code",
      "execution_count": 45,
      "metadata": {
        "id": "XvX8X_JJ6PCb"
      },
      "outputs": [],
      "source": [
        "import unittest\n",
        "\n",
        "def count_vowels(s):\n",
        "    vowels = \"aeiou\"\n",
        "    count = 0\n",
        "    for char in s:\n",
        "        if char in vowels:\n",
        "            count += 1\n",
        "    return count\n",
        "\n",
        "\n",
        "def test_count_vowels():\n",
        "    assert (count_vowels(\"hello\")) == 2\n",
        "    assert (count_vowels(\"programming\")) == 3\n",
        "    assert(count_vowels(\"a\")) == 1\n",
        "    assert(count_vowels(\"\")) == 0\n",
        "\n",
        "test_count_vowels()"
      ]
    },
    {
      "cell_type": "markdown",
      "metadata": {
        "id": "t2ClV_Y0bbr6"
      },
      "source": [
        "# Задача 2\n",
        "Написать функцию на вход, которой подается строка. Функция должна вернуть true, если\n",
        "каждый символ в строке встречается только 1 раз, иначе должна вернуть false. Написать тесты для кода"
      ]
    },
    {
      "cell_type": "code",
      "execution_count": 25,
      "metadata": {
        "id": "FppbECao6VIz"
      },
      "outputs": [
        {
          "data": {
            "text/plain": [
              "<function __main__.test_not_all_unique_chars()>"
            ]
          },
          "execution_count": 25,
          "metadata": {},
          "output_type": "execute_result"
        }
      ],
      "source": [
        "def is_unique(s):\n",
        "    seen = set()\n",
        "    for char in s:\n",
        "        if char in seen:\n",
        "            return False\n",
        "        seen.add(char)\n",
        "    return True\n",
        "\n",
        "import unittest\n",
        "\n",
        "def test_all_unique_chars():\n",
        "    assert(is_unique(\"abcdef\")) == True\n",
        "    assert(is_unique(\"1234567890\")) == True\n",
        "    assert(is_unique(\"abc123\")) == True\n",
        "    assert(is_unique(\"\")) == True\n",
        "\n",
        "def test_not_all_unique_chars():\n",
        "    assert(is_unique(\"hello\")) == False\n",
        "    assert(is_unique(\"programming\")) == False\n",
        "    assert(is_unique(\"aabbcc\")) == False\n",
        "\n",
        "test_all_unique_chars\n",
        "test_not_all_unique_chars"
      ]
    },
    {
      "cell_type": "markdown",
      "metadata": {
        "id": "udRiIK1cdt6E"
      },
      "source": [
        "# Задача 3\n",
        "Написать функцию, которая принимает положительное число и возвращает количество\n",
        "бит равных 1 в этом числе. Написать тесты для кода"
      ]
    },
    {
      "cell_type": "code",
      "execution_count": 44,
      "metadata": {
        "id": "6tkfDJRz6dp_"
      },
      "outputs": [],
      "source": [
        "def count_set_bits(num):\n",
        "    count = 0\n",
        "    while num:\n",
        "        count += num & 1\n",
        "        num >>= 1\n",
        "    return count\n",
        "import unittest\n",
        "\n",
        "def test_count_set_bits():\n",
        "    assert (count_set_bits(0)) == 0\n",
        "    assert(count_set_bits(1)) == 1\n",
        "    assert(count_set_bits(2)) == 1\n",
        "    assert(count_set_bits(3)) == 2\n",
        "    assert(count_set_bits(4)) == 1\n",
        "    assert(count_set_bits(5)) == 2\n",
        "    assert(count_set_bits(10)) == 2\n",
        "    assert(count_set_bits(255)) == 8\n",
        "    assert(count_set_bits(1023)) == 10\n",
        "\n",
        "test_count_set_bits()"
      ]
    },
    {
      "cell_type": "markdown",
      "metadata": {
        "id": "26dDUz-Ae17N"
      },
      "source": [
        "# Задача 4\n",
        "Написать функцию, которая принимает положительное число. Функция должна вернуть то,\n",
        "сколько раз необходимо перемножать цифры числа или результат перемножения, чтобы\n",
        "получилось число состоящее из одной цифры.\n",
        "Например, для входного числа:\n",
        "· 39 функция должна вернуть 3, так как 3*9=27 => 2*7=14 => 1*4=4\n",
        "· 4 функция должна вернуть 0, так как число уже состоит из одной цифры\n",
        "· 999 функция должна вернуть 4, так как 9*9*9=729 => 7*2*9=126 => 1*2*6=12 =>\n",
        "1*2=2. Написать тесты для кода"
      ]
    },
    {
      "cell_type": "code",
      "execution_count": 70,
      "metadata": {
        "id": "BH1A_Mgi6i4G"
      },
      "outputs": [],
      "source": [
        "def magic(n):\n",
        "    num_str = str(n)\n",
        "    count = 0\n",
        "\n",
        "    while len(num_str) > 1:\n",
        "        product = 1\n",
        "        for digit in num_str:\n",
        "            product *= int(digit)\n",
        "        num_str = str(product)\n",
        "        count += 1\n",
        "\n",
        "    return count\n",
        "\n",
        "import unittest\n",
        "\n",
        "\n",
        "def test_magic_single_digit():\n",
        "    assert(magic(4)) == 0\n",
        "    assert(magic(39)) == 3\n",
        "    assert(magic(999)) == 4\n",
        "\n",
        "test_magic_single_digit()"
      ]
    },
    {
      "cell_type": "markdown",
      "metadata": {
        "id": "0nS-kIa8g8vd"
      },
      "source": [
        "# Задача 5\n",
        "Написать функцию, которая принимает два целочисленных вектора одинаковой длины и\n",
        "возвращает среднеквадратическое отклонение двух векторов. Написать тесты для кода"
      ]
    },
    {
      "cell_type": "code",
      "execution_count": 51,
      "metadata": {
        "id": "8iphx4LM6xbx"
      },
      "outputs": [],
      "source": [
        "import math\n",
        "\n",
        "def mse(pred, true):\n",
        "    if len(pred) != len(true):\n",
        "        raise ValueError(\"Векторы должны иметь одинаковую длину\")\n",
        "\n",
        "    n = len(pred)\n",
        "    sum_squared_diff = sum((p - t) ** 2 for p, t in zip(pred, true))\n",
        "    mse_value = math.sqrt(sum_squared_diff / n)\n",
        "\n",
        "    return mse_value\n",
        "\n",
        "def test_mse():\n",
        "    assert mse([1, 2, 3], [4, 5, 6]) == math.sqrt(9)\n",
        "    assert mse([0, 0, 0], [0, 0, 0]) == 0\n",
        "    assert mse([1, 2, 3], [1, 2, 3]) == 0\n",
        "    assert mse([1, 2, 3], [4, 5, 6]) == math.sqrt(9)\n",
        "\n",
        "test_mse()"
      ]
    },
    {
      "cell_type": "markdown",
      "metadata": {
        "id": "vpIPKL439zkw"
      },
      "source": [
        "# Задача 6\n",
        "Написать функцию, принимающая целое положительное число. Функция должна вернуть\n",
        "строку вида “(n1**p1)(n2**p2)…(nk**pk)” представляющая разложение числа на простые\n",
        "множители (если pi == 1, то выводить только ni).\n",
        "Например, для числа 86240 функция должна вернуть “(2**5)(5)(7**2)(11)”. Написать тесты для кода"
      ]
    },
    {
      "cell_type": "code",
      "execution_count": 52,
      "metadata": {
        "id": "pFebmcZk94Jw"
      },
      "outputs": [],
      "source": [
        "def prime_factors(n):\n",
        "    factors = []\n",
        "    divisor = 2\n",
        "\n",
        "    while divisor <= n:\n",
        "        if n % divisor == 0:\n",
        "            factors.append(divisor)\n",
        "            n = n // divisor\n",
        "        else:\n",
        "            divisor += 1\n",
        "\n",
        "    result = \"\"\n",
        "    count = 1\n",
        "    for i in range(len(factors)):\n",
        "        if i < len(factors) - 1 and factors[i] == factors[i + 1]:\n",
        "            count += 1\n",
        "        else:\n",
        "            if count == 1:\n",
        "                result += \"({})\".format(factors[i])\n",
        "            else:\n",
        "                result += \"({}**{})\".format(factors[i], count)\n",
        "            count = 1\n",
        "\n",
        "    return result\n",
        "\n",
        "def test_prime_factors():\n",
        "    assert prime_factors(86240) == \"(2**5)(5)(7**2)(11)\"\n",
        "    assert prime_factors(20) == \"(2**2)(5)\"\n",
        "    assert prime_factors(101) == \"(101)\"\n",
        "\n",
        "test_prime_factors()    "
      ]
    },
    {
      "cell_type": "markdown",
      "metadata": {
        "id": "ps2s0BudX7A2"
      },
      "source": [
        "# Задача 7\n",
        "Написать функцию, принимающая целое число n, задающее количество кубиков. Функция\n",
        "должна определить, можно ли из данного кол-ва кубиков построить пирамиду, то есть\n",
        "можно ли представить число n как 1^2+2^2+3^2+…+k^2. Если можно, то функция должна\n",
        "вернуть k, иначе строку “It is impossible”. Написать тесты для кода"
      ]
    },
    {
      "cell_type": "code",
      "execution_count": 59,
      "metadata": {
        "id": "3YPjEXxhX_YT"
      },
      "outputs": [],
      "source": [
        "def pyramid(number):\n",
        "    total = 0\n",
        "    k = 1\n",
        "\n",
        "    while total < number:\n",
        "        total += k ** 2\n",
        "        if total == number:\n",
        "            return k\n",
        "        k += 1\n",
        "\n",
        "    return \"It is impossible\" \n",
        "\n",
        "def test_pyramid():\n",
        "    assert(pyramid(1))== 1\n",
        "    assert(pyramid(5))== 2\n",
        "    assert(pyramid(13))== \"It is impossible\"\n",
        "    assert(pyramid(14))== 3\n",
        "    assert(pyramid(30))== 4\n",
        "\n",
        "test_pyramid()"
      ]
    },
    {
      "cell_type": "markdown",
      "metadata": {
        "id": "KeKgmIdAQMEJ"
      },
      "source": [
        "# Задача 8\n",
        "Функция принимает на вход положительное число и определяет является ли оно сбалансированным, т.е. сумма цифр до средних равна сумме цифр после. Средними в случае нечетного числа цифр считать одну цифру, в случае четного - две средних. Написать тесты для кода"
      ]
    },
    {
      "cell_type": "code",
      "execution_count": 68,
      "metadata": {
        "id": "gMAAqtqlQrZt"
      },
      "outputs": [],
      "source": [
        "def is_balanced(number):\n",
        "    num_str = str(number)\n",
        "    length = len(num_str)\n",
        "    sum1 = 0\n",
        "    sum2 = 0\n",
        "\n",
        "    mid = length // 2\n",
        "    if length % 2 == 0:\n",
        "        for i in range(mid):\n",
        "            sum1 += int(num_str[i])\n",
        "            sum2 += int(num_str[mid + i])\n",
        "    else:\n",
        "        for i in range(mid):\n",
        "            sum1 += int(num_str[i])\n",
        "            sum2 += int(num_str[mid + 1 + i])\n",
        "\n",
        "    return sum1 == sum2\n",
        "import unittest\n",
        "\n",
        "\n",
        "\n",
        "def test_is_balanced_even_length():\n",
        "    assert(is_balanced(123456)) == False\n",
        "    assert(is_balanced(123451)) == False\n",
        "\n",
        "def test_is_balanced_odd_length():\n",
        "    assert(is_balanced(12321))== True\n",
        "    assert(is_balanced(12345))== False\n",
        "\n",
        "def test_is_balanced_single_digit():\n",
        "    assert(is_balanced(0))== True\n",
        "    assert(is_balanced(5))== True\n",
        "\n",
        "test_is_balanced_even_length()\n",
        "test_is_balanced_odd_length()\n",
        "test_is_balanced_single_digit()"
      ]
    }
  ],
  "metadata": {
    "colab": {
      "provenance": []
    },
    "kernelspec": {
      "display_name": "Python 3",
      "name": "python3"
    },
    "language_info": {
      "codemirror_mode": {
        "name": "ipython",
        "version": 3
      },
      "file_extension": ".py",
      "mimetype": "text/x-python",
      "name": "python",
      "nbconvert_exporter": "python",
      "pygments_lexer": "ipython3",
      "version": "3.11.5"
    }
  },
  "nbformat": 4,
  "nbformat_minor": 0
}
